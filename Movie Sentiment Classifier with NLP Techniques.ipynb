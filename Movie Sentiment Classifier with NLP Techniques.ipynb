{
 "cells": [
  {
   "cell_type": "code",
   "execution_count": 1,
   "metadata": {},
   "outputs": [
    {
     "data": {
      "text/html": [
       "<div>\n",
       "<style scoped>\n",
       "    .dataframe tbody tr th:only-of-type {\n",
       "        vertical-align: middle;\n",
       "    }\n",
       "\n",
       "    .dataframe tbody tr th {\n",
       "        vertical-align: top;\n",
       "    }\n",
       "\n",
       "    .dataframe thead th {\n",
       "        text-align: right;\n",
       "    }\n",
       "</style>\n",
       "<table border=\"1\" class=\"dataframe\">\n",
       "  <thead>\n",
       "    <tr style=\"text-align: right;\">\n",
       "      <th></th>\n",
       "      <th>PhraseId</th>\n",
       "      <th>SentenceId</th>\n",
       "      <th>Phrase</th>\n",
       "      <th>Sentiment</th>\n",
       "    </tr>\n",
       "  </thead>\n",
       "  <tbody>\n",
       "    <tr>\n",
       "      <th>0</th>\n",
       "      <td>1</td>\n",
       "      <td>1</td>\n",
       "      <td>A series of escapades demonstrating the adage ...</td>\n",
       "      <td>1</td>\n",
       "    </tr>\n",
       "    <tr>\n",
       "      <th>1</th>\n",
       "      <td>2</td>\n",
       "      <td>1</td>\n",
       "      <td>A series of escapades demonstrating the adage ...</td>\n",
       "      <td>2</td>\n",
       "    </tr>\n",
       "    <tr>\n",
       "      <th>2</th>\n",
       "      <td>3</td>\n",
       "      <td>1</td>\n",
       "      <td>A series</td>\n",
       "      <td>2</td>\n",
       "    </tr>\n",
       "    <tr>\n",
       "      <th>3</th>\n",
       "      <td>4</td>\n",
       "      <td>1</td>\n",
       "      <td>A</td>\n",
       "      <td>2</td>\n",
       "    </tr>\n",
       "    <tr>\n",
       "      <th>4</th>\n",
       "      <td>5</td>\n",
       "      <td>1</td>\n",
       "      <td>series</td>\n",
       "      <td>2</td>\n",
       "    </tr>\n",
       "  </tbody>\n",
       "</table>\n",
       "</div>"
      ],
      "text/plain": [
       "   PhraseId  SentenceId                                             Phrase  \\\n",
       "0         1           1  A series of escapades demonstrating the adage ...   \n",
       "1         2           1  A series of escapades demonstrating the adage ...   \n",
       "2         3           1                                           A series   \n",
       "3         4           1                                                  A   \n",
       "4         5           1                                             series   \n",
       "\n",
       "   Sentiment  \n",
       "0          1  \n",
       "1          2  \n",
       "2          2  \n",
       "3          2  \n",
       "4          2  "
      ]
     },
     "execution_count": 1,
     "metadata": {},
     "output_type": "execute_result"
    }
   ],
   "source": [
    "\n",
    "from io import StringIO\n",
    "import requests\n",
    "import json\n",
    "import pandas as pd\n",
    "\n",
    "# @hidden_cell\n",
    "# This function accesses a file in your Object Storage. The definition contains your credentials.\n",
    "# You might want to remove those credentials before you share your notebook.\n",
    "def get_object_storage_file_with_credentials_2689622d3bb44c6295e7bc1d0783dde4(container, filename):\n",
    "    \"\"\"This functions returns a StringIO object containing\n",
    "    the file content from Bluemix Object Storage.\"\"\"\n",
    "\n",
    "    url1 = ''.join(['https://identity.open.softlayer.com', '/v3/auth/tokens'])\n",
    "    data = {'auth': {'identity': {'methods': ['password'],\n",
    "            'password': {'user': {'name': 'member_27f432c403a506fc9b89694a383d87f4282a96de','domain': {'id': 'ce9588cdb66f4bc8889c950585780ce9'},\n",
    "            'password': 'l^R6K]-EMg&56c[/'}}}}}\n",
    "    headers1 = {'Content-Type': 'application/json'}\n",
    "    resp1 = requests.post(url=url1, data=json.dumps(data), headers=headers1)\n",
    "    resp1_body = resp1.json()\n",
    "    for e1 in resp1_body['token']['catalog']:\n",
    "        if(e1['type']=='object-store'):\n",
    "            for e2 in e1['endpoints']:\n",
    "                        if(e2['interface']=='public'and e2['region']=='dallas'):\n",
    "                            url2 = ''.join([e2['url'],'/', container, '/', filename])\n",
    "    s_subject_token = resp1.headers['x-subject-token']\n",
    "    headers2 = {'X-Auth-Token': s_subject_token, 'accept': 'application/json'}\n",
    "    resp2 = requests.get(url=url2, headers=headers2)\n",
    "    return StringIO(resp2.text)\n",
    "\n",
    "df_train = pd.read_csv(get_object_storage_file_with_credentials_2689622d3bb44c6295e7bc1d0783dde4('DefaultProjectnchellaminibmcom', 'train_moviesentiment.csv'))\n",
    "df_train.head()\n"
   ]
  },
  {
   "cell_type": "code",
   "execution_count": 2,
   "metadata": {},
   "outputs": [
    {
     "name": "stdout",
     "output_type": "stream",
     "text": [
      "<class 'pandas.core.frame.DataFrame'>\n",
      "RangeIndex: 156060 entries, 0 to 156059\n",
      "Data columns (total 4 columns):\n",
      "PhraseId      156060 non-null int64\n",
      "SentenceId    156060 non-null int64\n",
      "Phrase        156060 non-null object\n",
      "Sentiment     156060 non-null int64\n",
      "dtypes: int64(3), object(1)\n",
      "memory usage: 4.8+ MB\n"
     ]
    }
   ],
   "source": [
    "df_train.info()"
   ]
  },
  {
   "cell_type": "code",
   "execution_count": 3,
   "metadata": {},
   "outputs": [],
   "source": [
    "sentiment=df_train['Sentiment']"
   ]
  },
  {
   "cell_type": "code",
   "execution_count": 4,
   "metadata": {},
   "outputs": [
    {
     "data": {
      "text/plain": [
       "0    1\n",
       "1    2\n",
       "2    2\n",
       "3    2\n",
       "4    2\n",
       "Name: Sentiment, dtype: int64"
      ]
     },
     "execution_count": 4,
     "metadata": {},
     "output_type": "execute_result"
    }
   ],
   "source": [
    "sentiment.head()"
   ]
  },
  {
   "cell_type": "code",
   "execution_count": 5,
   "metadata": {},
   "outputs": [],
   "source": [
    "import nltk"
   ]
  },
  {
   "cell_type": "code",
   "execution_count": 6,
   "metadata": {},
   "outputs": [],
   "source": [
    "from nltk import word_tokenize"
   ]
  },
  {
   "cell_type": "code",
   "execution_count": 7,
   "metadata": {},
   "outputs": [],
   "source": [
    "import string\n",
    "table=str.maketrans('','',string.punctuation)"
   ]
  },
  {
   "cell_type": "code",
   "execution_count": 8,
   "metadata": {},
   "outputs": [],
   "source": [
    "from sklearn.feature_extraction.text import TfidfVectorizer"
   ]
  },
  {
   "cell_type": "code",
   "execution_count": 9,
   "metadata": {},
   "outputs": [],
   "source": [
    "vect=TfidfVectorizer()"
   ]
  },
  {
   "cell_type": "code",
   "execution_count": 10,
   "metadata": {},
   "outputs": [],
   "source": [
    "train=vect.fit_transform(df_train['Phrase'])\n"
   ]
  },
  {
   "cell_type": "code",
   "execution_count": 11,
   "metadata": {},
   "outputs": [
    {
     "data": {
      "text/plain": [
       "{'mad': 8121,\n",
       " 'reminiscence': 10989,\n",
       " 'circle': 2354,\n",
       " 'principals': 10296,\n",
       " 'scooter': 11645,\n",
       " 'sophomoric': 12457,\n",
       " 'review': 11173,\n",
       " 'travis': 13858,\n",
       " 'kirshner': 7525,\n",
       " 'spoken': 12608,\n",
       " 'exhibits': 4736,\n",
       " 'exploiting': 4791,\n",
       " 'brief': 1734,\n",
       " 'embarrassment': 4351,\n",
       " 'overstuffed': 9461,\n",
       " 'bloodwork': 1500,\n",
       " 'cagney': 1919,\n",
       " 'why': 14926,\n",
       " 'cooper': 2924,\n",
       " 'hi': 6331,\n",
       " 'reports': 11032,\n",
       " 'mystique': 8880,\n",
       " 'passe': 9628,\n",
       " 'unstoppable': 14370,\n",
       " 'comatose': 2571,\n",
       " 'firmer': 5151,\n",
       " 'captured': 2004,\n",
       " 'debated': 3338,\n",
       " 'able': 160,\n",
       " 'obscenity': 9183,\n",
       " 'regain': 10895,\n",
       " 'avengers': 1015,\n",
       " 'spiteful': 12589,\n",
       " 'whoopee': 14922,\n",
       " 'whirl': 14904,\n",
       " 'mart': 8273,\n",
       " 'immune': 6715,\n",
       " 'errors': 4573,\n",
       " 'plympton': 10022,\n",
       " 'woven': 15105,\n",
       " 'senegalese': 11788,\n",
       " 'reception': 10782,\n",
       " 'negated': 8979,\n",
       " 'dread': 4047,\n",
       " 'honorable': 6455,\n",
       " 'chuckle': 2329,\n",
       " 'mexico': 8493,\n",
       " 'her': 6306,\n",
       " 'projector': 10373,\n",
       " 'senses': 11795,\n",
       " 'brecht': 1718,\n",
       " 'row': 11382,\n",
       " 'yourselves': 15192,\n",
       " 'enjoyable': 4470,\n",
       " 'stein': 12772,\n",
       " 'russo': 11430,\n",
       " 'etched': 4610,\n",
       " 'adds': 308,\n",
       " 'mistakes': 8620,\n",
       " 'thurman': 13617,\n",
       " 'anticipated': 687,\n",
       " 'general': 5652,\n",
       " 'stolid': 12834,\n",
       " 'got': 5850,\n",
       " 'charisma': 2193,\n",
       " 'straining': 12869,\n",
       " 'williams': 14953,\n",
       " 'cameo': 1947,\n",
       " 'casualties': 2074,\n",
       " 'formed': 5364,\n",
       " 'pull': 10477,\n",
       " 'northern': 9105,\n",
       " 'michael': 8500,\n",
       " 'careens': 2017,\n",
       " 'hybrid': 6598,\n",
       " 'resurrection': 11126,\n",
       " 'assault': 886,\n",
       " 'dolly': 3940,\n",
       " 'machine': 8114,\n",
       " 'softheaded': 12398,\n",
       " 'coherent': 2523,\n",
       " 'elevated': 4314,\n",
       " '163': 25,\n",
       " 'practiced': 10171,\n",
       " 'ghost': 5706,\n",
       " 'pandora': 9550,\n",
       " 'connections': 2784,\n",
       " 'dubbed': 4114,\n",
       " 'harangues': 6152,\n",
       " 'diverges': 3886,\n",
       " 'surgeon': 13159,\n",
       " 'authentically': 996,\n",
       " 'eighties': 4283,\n",
       " 'pranksters': 10180,\n",
       " 'unsurprising': 14376,\n",
       " 'rather': 10699,\n",
       " 'annoyances': 665,\n",
       " 'heard': 6242,\n",
       " 'turd': 13990,\n",
       " '1987': 60,\n",
       " 'fervid': 5054,\n",
       " 'program': 10364,\n",
       " 'problem': 10321,\n",
       " 'prone': 10391,\n",
       " 'helga': 6285,\n",
       " 'up': 14395,\n",
       " 'dirty': 3730,\n",
       " 'covers': 3012,\n",
       " 'attendant': 953,\n",
       " 'plenty': 9991,\n",
       " 'stiller': 12813,\n",
       " 'remained': 10970,\n",
       " 'juliette': 7406,\n",
       " 'honesty': 6450,\n",
       " 'while': 14891,\n",
       " 'genes': 5667,\n",
       " 'clothes': 2470,\n",
       " 'unruly': 14345,\n",
       " 'derivativeness': 3549,\n",
       " 'reincarnation': 10922,\n",
       " 'musicians': 8851,\n",
       " 'evolution': 4673,\n",
       " 'alfred': 494,\n",
       " 'cannier': 1976,\n",
       " 'satisfied': 11538,\n",
       " 'degree': 3426,\n",
       " 'tome': 13702,\n",
       " 'globalizing': 5770,\n",
       " 'crowd': 3140,\n",
       " 'prince': 10292,\n",
       " 'ismail': 7222,\n",
       " 'playstation': 9974,\n",
       " 'lipstick': 7914,\n",
       " 'quadrangle': 10557,\n",
       " 'ferrera': 5048,\n",
       " 'starring': 12729,\n",
       " 'vigils': 14593,\n",
       " 'designed': 3572,\n",
       " 'neophyte': 8995,\n",
       " 'bones': 1592,\n",
       " 'affair': 380,\n",
       " 'eclipses': 4229,\n",
       " 'halfway': 6089,\n",
       " 'raw': 10714,\n",
       " 'omniscient': 9269,\n",
       " 'ridicule': 11229,\n",
       " 'envelops': 4528,\n",
       " 'victor': 14573,\n",
       " 'opulent': 9325,\n",
       " 'razor': 10718,\n",
       " 'disparate': 3820,\n",
       " 'detailing': 3601,\n",
       " 'blaxploitation': 1452,\n",
       " 'stupidities': 12976,\n",
       " 'cristo': 3116,\n",
       " 'spiritually': 12587,\n",
       " 'lifetime': 7846,\n",
       " 'skateboarding': 12173,\n",
       " 'marine': 8249,\n",
       " 'dooper': 3963,\n",
       " 'separate': 11814,\n",
       " 'rudimentary': 11396,\n",
       " 'undertones': 14173,\n",
       " 'continent': 2857,\n",
       " 'mishandle': 8603,\n",
       " 'recreates': 10818,\n",
       " 'hip': 6374,\n",
       " 'lines': 7896,\n",
       " 'russians': 11429,\n",
       " 'shows': 12042,\n",
       " 'lofty': 7965,\n",
       " 'ultra': 14054,\n",
       " 'need': 8969,\n",
       " 'credits': 3081,\n",
       " 'charly': 2201,\n",
       " 'coolness': 2922,\n",
       " 'slain': 12215,\n",
       " 'accept': 200,\n",
       " 'unfocused': 14229,\n",
       " 'mill': 8536,\n",
       " 'dynamite': 4179,\n",
       " 'undertaken': 14170,\n",
       " 'giler': 5728,\n",
       " 'resembles': 11063,\n",
       " 'sidekicks': 12078,\n",
       " 'concentration': 2707,\n",
       " 'allegiance': 509,\n",
       " 'tabloids': 13283,\n",
       " 'rendering': 10999,\n",
       " 'fatale': 4978,\n",
       " 'cop': 2927,\n",
       " 'expects': 4763,\n",
       " 'transports': 13840,\n",
       " 'pantomimesque': 9556,\n",
       " 'melancholic': 8413,\n",
       " 'allegedly': 508,\n",
       " 'facts': 4884,\n",
       " 'fable': 4861,\n",
       " 'dilemma': 3695,\n",
       " 'organize': 9343,\n",
       " 'ashamed': 861,\n",
       " 'acclaim': 210,\n",
       " 'killing': 7501,\n",
       " 'civic': 2365,\n",
       " 'deportment': 3530,\n",
       " 'festers': 5057,\n",
       " 'semimusical': 11782,\n",
       " 'an': 605,\n",
       " 'unintelligible': 14270,\n",
       " 'gary': 5617,\n",
       " 'curio': 3196,\n",
       " 'actorish': 274,\n",
       " 'fantastic': 4948,\n",
       " 'explodes': 4787,\n",
       " 'slo': 12267,\n",
       " 'patronizing': 9670,\n",
       " 'offbeat': 9230,\n",
       " 'mixer': 8630,\n",
       " 'feature': 5014,\n",
       " 'throbbing': 13596,\n",
       " 'wisecracking': 14992,\n",
       " 'liang': 7823,\n",
       " 'dumas': 4138,\n",
       " 'disappoint': 3739,\n",
       " 'inconsistent': 6826,\n",
       " 'groaners': 5975,\n",
       " 'monument': 8701,\n",
       " 'halfhearted': 6087,\n",
       " 'strict': 12904,\n",
       " 'bailly': 1092,\n",
       " 'aesthetically': 376,\n",
       " 'kitschy': 7532,\n",
       " 'stink': 12821,\n",
       " 'surrendering': 13171,\n",
       " 'uncertainty': 14091,\n",
       " 'handicap': 6117,\n",
       " 'copy': 2937,\n",
       " 'snowball': 12366,\n",
       " 'logic': 7967,\n",
       " 'prurient': 10445,\n",
       " 'roman': 11325,\n",
       " 'inappropriate': 6794,\n",
       " 'mishmash': 8605,\n",
       " '103': 5,\n",
       " 'trove': 13938,\n",
       " 'about': 166,\n",
       " 'conscious': 2794,\n",
       " 'foremost': 5340,\n",
       " 'costume': 2970,\n",
       " 'sieve': 12087,\n",
       " 'inescapable': 6889,\n",
       " 'younger': 15187,\n",
       " 'epps': 4545,\n",
       " 'achingly': 244,\n",
       " 'sacrificing': 11453,\n",
       " 'looked': 7987,\n",
       " 'gears': 5640,\n",
       " 'explanations': 4784,\n",
       " 'valiantly': 14472,\n",
       " 'discarded': 3753,\n",
       " 'hartley': 6186,\n",
       " 'tentative': 13457,\n",
       " 'poetically': 10027,\n",
       " 'lyne': 8102,\n",
       " 'margin': 8239,\n",
       " 'journalistic': 7375,\n",
       " 'musset': 8855,\n",
       " 'wertmuller': 14860,\n",
       " 'change': 2166,\n",
       " 'indie': 6849,\n",
       " 'verging': 14541,\n",
       " 'lightness': 7859,\n",
       " 'unaccountable': 14063,\n",
       " 'absent': 174,\n",
       " 'pc': 9696,\n",
       " 'their': 13513,\n",
       " 'cracked': 3021,\n",
       " 'alienating': 501,\n",
       " 'holocaust': 6430,\n",
       " 'cheapened': 2221,\n",
       " 'tres': 13882,\n",
       " 'hottest': 6513,\n",
       " 'streamlined': 12890,\n",
       " 'grizzled': 5972,\n",
       " 'dominate': 3947,\n",
       " 'compassionately': 2641,\n",
       " 'destiny': 3590,\n",
       " 'significantly': 12095,\n",
       " 'clicks': 2431,\n",
       " 'consistent': 2810,\n",
       " 'kennedy': 7469,\n",
       " 'classic': 2389,\n",
       " 'breach': 1701,\n",
       " 'intended': 7064,\n",
       " 'venture': 14527,\n",
       " 'placed': 9931,\n",
       " 'elizabeth': 4324,\n",
       " 'upon': 14410,\n",
       " 'draw': 4039,\n",
       " 'turned': 13997,\n",
       " 'clumsy': 2487,\n",
       " 'bad': 1079,\n",
       " 'damage': 3250,\n",
       " 'utter': 14455,\n",
       " 'generated': 5657,\n",
       " 'volume': 14656,\n",
       " 'trim': 13901,\n",
       " 'glitter': 5766,\n",
       " 'ceremonies': 2139,\n",
       " 'flourishes': 5265,\n",
       " 'concerns': 2717,\n",
       " 'exciting': 4715,\n",
       " 'posing': 10120,\n",
       " 'land': 7638,\n",
       " 'monologue': 8684,\n",
       " 'ian': 6616,\n",
       " 'disturb': 3875,\n",
       " 'demonstrating': 3490,\n",
       " 'use': 14437,\n",
       " 'very': 14554,\n",
       " 'wannabe': 14722,\n",
       " 'faith': 4906,\n",
       " 'crapulence': 3045,\n",
       " 'outpaces': 9393,\n",
       " 'preview': 10275,\n",
       " 'lunacy': 8076,\n",
       " 'purdy': 10514,\n",
       " '451': 95,\n",
       " 'glosses': 5781,\n",
       " 'swingers': 13237,\n",
       " 'self': 11774,\n",
       " 'journalists': 7377,\n",
       " 'gyllenhaal': 6063,\n",
       " 'catching': 2084,\n",
       " 'dadaist': 3242,\n",
       " 'benevolent': 1317,\n",
       " 'iraqi': 7185,\n",
       " 'recalling': 10772,\n",
       " 'descends': 3557,\n",
       " 'mention': 8443,\n",
       " 'intellectual': 7056,\n",
       " 'hardass': 6157,\n",
       " 'trials': 13885,\n",
       " 'kilter': 7506,\n",
       " 'because': 1236,\n",
       " 'paramount': 9574,\n",
       " 'contradicts': 2870,\n",
       " 'narcissistic': 8916,\n",
       " 'avuncular': 1027,\n",
       " 'lively': 7937,\n",
       " 'chump': 2332,\n",
       " 'gaye': 5632,\n",
       " 'elmo': 4331,\n",
       " 'narc': 8914,\n",
       " 'ridiculous': 11230,\n",
       " 'humiliation': 6563,\n",
       " 'robert': 11286,\n",
       " 'miramax': 8576,\n",
       " 'kidnapping': 7492,\n",
       " 'roland': 11313,\n",
       " 'pride': 10282,\n",
       " 'arise': 798,\n",
       " 'lecherous': 7756,\n",
       " 'gosling': 5848,\n",
       " 'decrepit': 3379,\n",
       " 'murdock': 8835,\n",
       " 'perpetrating': 9780,\n",
       " 'demographic': 3482,\n",
       " 'animal': 647,\n",
       " 'operatic': 9300,\n",
       " 'promotion': 10390,\n",
       " 'sibling': 12068,\n",
       " 'hems': 6301,\n",
       " 'zoom': 15236,\n",
       " 'deepest': 3389,\n",
       " 'limerick': 7880,\n",
       " 'merchant': 8449,\n",
       " 'refracting': 10882,\n",
       " 'guard': 6017,\n",
       " 'harps': 6178,\n",
       " 'vowing': 14662,\n",
       " 'nuance': 9146,\n",
       " 'expected': 4761,\n",
       " 'thrillers': 13590,\n",
       " 'rote': 11360,\n",
       " 'afraid': 406,\n",
       " 'teenage': 13405,\n",
       " 'cattle': 2097,\n",
       " 'smashing': 12307,\n",
       " 'worked': 15071,\n",
       " 'going': 5806,\n",
       " 'respects': 11097,\n",
       " 'firebrand': 5147,\n",
       " 'bode': 1545,\n",
       " 'hundert': 6571,\n",
       " 'mystical': 8878,\n",
       " 'murphy': 8838,\n",
       " 'lower': 8042,\n",
       " 'lothario': 8016,\n",
       " 'possession': 10129,\n",
       " 'headaches': 6226,\n",
       " 'fallon': 4916,\n",
       " 'brogue': 1767,\n",
       " 'shell': 11960,\n",
       " 'kozmo': 7575,\n",
       " 'didactic': 3670,\n",
       " 'xmas': 15143,\n",
       " 'avoiding': 1024,\n",
       " '104': 6,\n",
       " 'rising': 11263,\n",
       " 'warmed': 14734,\n",
       " 'brazil': 1700,\n",
       " 'irritatingly': 7213,\n",
       " 'amazing': 556,\n",
       " 'distinct': 3853,\n",
       " 'doubting': 3986,\n",
       " 'thump': 13613,\n",
       " 'bleak': 1455,\n",
       " 'cad': 1910,\n",
       " 'realized': 10750,\n",
       " 'artist': 841,\n",
       " 'seamless': 11707,\n",
       " 'cutter': 3228,\n",
       " 'wisely': 14995,\n",
       " 'unseen': 14355,\n",
       " 'portraying': 10113,\n",
       " 'snuck': 12369,\n",
       " 'friend': 5468,\n",
       " 'crawl': 3053,\n",
       " 'president': 10247,\n",
       " 'dramas': 4027,\n",
       " 'slickly': 12251,\n",
       " 'jolt': 7357,\n",
       " 'flame': 5190,\n",
       " 'century': 2136,\n",
       " 'stirring': 12824,\n",
       " 'generic': 5663,\n",
       " 'collie': 2551,\n",
       " 'terribly': 13469,\n",
       " 'lo': 7945,\n",
       " 'delivered': 3458,\n",
       " 'thankfully': 13499,\n",
       " 'overwhelms': 9474,\n",
       " 'gored': 5841,\n",
       " 'chapter': 2177,\n",
       " 'wounding': 15103,\n",
       " 'intentional': 7070,\n",
       " 'insufferable': 7038,\n",
       " 'broadway': 1762,\n",
       " 'horses': 6498,\n",
       " 'chokes': 2295,\n",
       " 'cards': 2013,\n",
       " 'iq': 7182,\n",
       " 'infuriatingly': 6932,\n",
       " 'lector': 7758,\n",
       " 'opts': 9324,\n",
       " 'elie': 4321,\n",
       " 'margot': 8244,\n",
       " 'draft': 4014,\n",
       " 'trivializes': 13919,\n",
       " 'byzantine': 1904,\n",
       " 'spikes': 12569,\n",
       " 'surprising': 13164,\n",
       " 'plea': 9977,\n",
       " 'enjoyed': 4472,\n",
       " 'collage': 2537,\n",
       " 'producers': 10338,\n",
       " 'ub': 14043,\n",
       " 'simplify': 12120,\n",
       " 'wisp': 15002,\n",
       " 'determine': 3608,\n",
       " 'solipsism': 12415,\n",
       " 'dubious': 4115,\n",
       " 'bothered': 1640,\n",
       " 'camouflaging': 1953,\n",
       " 'flickering': 5235,\n",
       " 'godard': 5798,\n",
       " 'devolves': 3636,\n",
       " 'terrible': 13468,\n",
       " 'unsung': 14374,\n",
       " 'zinger': 15222,\n",
       " 'duckling': 4117,\n",
       " 'sydow': 13258,\n",
       " 'flowing': 5271,\n",
       " 'online': 9277,\n",
       " 'protracted': 10422,\n",
       " 'superbly': 13119,\n",
       " 'towards': 13773,\n",
       " 'smorgasbord': 12329,\n",
       " 'lil': 7871,\n",
       " 'inconsistencies': 6825,\n",
       " 'plays': 9973,\n",
       " 'owes': 9481,\n",
       " 'job': 7336,\n",
       " 'insiders': 6994,\n",
       " 'sideshow': 12080,\n",
       " 'lifestyle': 7845,\n",
       " 'admission': 325,\n",
       " 'dipsticks': 3715,\n",
       " 'none': 9085,\n",
       " 'further': 5545,\n",
       " 'gaitskill': 5576,\n",
       " 'cinematographer': 2348,\n",
       " 'dreaminess': 4054,\n",
       " 'rules': 11408,\n",
       " 'figuring': 5099,\n",
       " 'unendurable': 14204,\n",
       " 'antagonism': 678,\n",
       " 'piscopo': 9911,\n",
       " 'soothe': 12450,\n",
       " 'barn': 1161,\n",
       " 'warming': 14736,\n",
       " 'haphazard': 6141,\n",
       " 'cars': 2048,\n",
       " 'soberly': 12380,\n",
       " 'jerking': 7312,\n",
       " 'highs': 6354,\n",
       " 'mergers': 8456,\n",
       " 'bourne': 1656,\n",
       " 'knee': 7539,\n",
       " 'riviera': 11277,\n",
       " 'cynic': 3235,\n",
       " 'repetitious': 11020,\n",
       " 'superficially': 13123,\n",
       " 'shrugging': 12057,\n",
       " 'tried': 13894,\n",
       " 'distracted': 3867,\n",
       " 'bearded': 1218,\n",
       " 'ferocity': 5046,\n",
       " 'dawn': 3306,\n",
       " 'narcissism': 8915,\n",
       " 'digest': 3685,\n",
       " 'variety': 14493,\n",
       " 'frozen': 5497,\n",
       " 'del': 3429,\n",
       " 'theatrics': 13512,\n",
       " 'rehash': 10913,\n",
       " 'weepy': 14824,\n",
       " 'wind': 14967,\n",
       " 'ode': 9219,\n",
       " 'asquith': 881,\n",
       " 'variable': 14488,\n",
       " 'lemon': 7779,\n",
       " 'races': 10608,\n",
       " 'choppiness': 2303,\n",
       " 'gere': 5690,\n",
       " 'recompense': 10803,\n",
       " 'renner': 11004,\n",
       " 'controlled': 2885,\n",
       " 'dustin': 4159,\n",
       " 'nettelbeck': 9006,\n",
       " 'beating': 1225,\n",
       " 'don': 3953,\n",
       " 'bolt': 1577,\n",
       " '1975': 54,\n",
       " 'tinsel': 13658,\n",
       " 'tamer': 13323,\n",
       " 'salvaged': 11490,\n",
       " 'ponder': 10069,\n",
       " 'talk': 13313,\n",
       " 'crispin': 3114,\n",
       " 'achievement': 239,\n",
       " 'list': 7917,\n",
       " 'walled': 14701,\n",
       " 'meanderings': 8371,\n",
       " 'overstimulated': 9460,\n",
       " 'norma': 9098,\n",
       " 'dumbed': 4140,\n",
       " 'unleashed': 14291,\n",
       " 'bloated': 1484,\n",
       " 'stuff': 12958,\n",
       " 'bitchy': 1410,\n",
       " 'looks': 7990,\n",
       " 'handbag': 6110,\n",
       " 'comments': 2610,\n",
       " 'affirmational': 393,\n",
       " 'professionals': 10350,\n",
       " 'peanut': 9701,\n",
       " 'detailed': 3600,\n",
       " 'bumps': 1839,\n",
       " 'headed': 6228,\n",
       " 'assured': 912,\n",
       " 'predisposed': 10209,\n",
       " 'guilt': 6030,\n",
       " 'contemptuous': 2848,\n",
       " 'object': 9172,\n",
       " 'elling': 4327,\n",
       " 'schwarzenegger': 11631,\n",
       " 'quintet': 10592,\n",
       " 'vh1': 14558,\n",
       " 'imitation': 6696,\n",
       " 'devaluation': 3614,\n",
       " 'unpaid': 14314,\n",
       " 'absorbs': 180,\n",
       " 'eudora': 4624,\n",
       " 'vast': 14498,\n",
       " 'later': 7679,\n",
       " 'lend': 7780,\n",
       " 'unnoticed': 14310,\n",
       " 'succumbing': 13054,\n",
       " 'allowed': 515,\n",
       " 'kathy': 7451,\n",
       " 'provides': 10431,\n",
       " 'neurotics': 9012,\n",
       " 'drives': 4083,\n",
       " 'grabowsky': 5865,\n",
       " 'breaking': 1706,\n",
       " 'grumpy': 6010,\n",
       " 'stupidity': 12977,\n",
       " 'recorded': 10809,\n",
       " 'win': 14964,\n",
       " 'mongering': 8679,\n",
       " 'setpieces': 11862,\n",
       " 'neglects': 8985,\n",
       " 'costs': 2969,\n",
       " 'individuals': 6862,\n",
       " 'viscerally': 14624,\n",
       " 'transgressive': 13825,\n",
       " 'much': 8807,\n",
       " 'bledel': 1458,\n",
       " 'hannibal': 6138,\n",
       " 'spirited': 12581,\n",
       " 'suggest': 13083,\n",
       " 'shu': 12059,\n",
       " 'sterling': 12790,\n",
       " 'writer': 15126,\n",
       " 'characteristic': 2181,\n",
       " 'stanford': 12721,\n",
       " 'fades': 4888,\n",
       " 'deserving': 3569,\n",
       " 'screenings': 11677,\n",
       " 'farts': 4962,\n",
       " 'creepiness': 3088,\n",
       " 'avoids': 1025,\n",
       " 'helpful': 6296,\n",
       " 'comprehensible': 2682,\n",
       " 'cheeky': 2236,\n",
       " 'mythologizing': 8884,\n",
       " 'asian': 864,\n",
       " 'accompanied': 214,\n",
       " 'fizzle': 5173,\n",
       " 'beheadings': 1280,\n",
       " 'figure': 5096,\n",
       " 'primary': 10288,\n",
       " 'accidental': 209,\n",
       " 'limp': 7885,\n",
       " 'flibbertigibbet': 5233,\n",
       " 'buried': 1850,\n",
       " 'spoiler': 12607,\n",
       " 'droll': 4086,\n",
       " 'bleu': 1469,\n",
       " 'blends': 1465,\n",
       " 'und': 14120,\n",
       " 'camaraderie': 1945,\n",
       " 'tonal': 13707,\n",
       " 'pizazz': 9928,\n",
       " 'progressive': 10369,\n",
       " 'goal': 5793,\n",
       " 'exotic': 4750,\n",
       " 'relentless': 10949,\n",
       " 'prettiest': 10266,\n",
       " 'innovative': 6973,\n",
       " 'twirling': 14023,\n",
       " 'sweet': 13224,\n",
       " 'cartoonish': 2052,\n",
       " 'good': 5821,\n",
       " 'alain': 479,\n",
       " 'conforms': 2760,\n",
       " 'instantly': 7024,\n",
       " 'warren': 14744,\n",
       " 'ki': 7478,\n",
       " 'obsessed': 9192,\n",
       " 'splattering': 12598,\n",
       " 'absurd': 183,\n",
       " 'clocked': 2454,\n",
       " 'triviality': 13917,\n",
       " 'anew': 632,\n",
       " 'grips': 5966,\n",
       " 'olympic': 9262,\n",
       " 'often': 9243,\n",
       " 'ambition': 562,\n",
       " 'cavaradossi': 2106,\n",
       " 'testament': 13484,\n",
       " 'blisteringly': 1481,\n",
       " 'out': 9379,\n",
       " 'stiflingly': 12809,\n",
       " 'whiffle': 14890,\n",
       " 'preserves': 10245,\n",
       " 'savory': 11556,\n",
       " 'unseemly': 14354,\n",
       " 'karim': 7445,\n",
       " 'lewd': 7817,\n",
       " 'inflate': 6918,\n",
       " 'quirks': 10595,\n",
       " 'ads': 350,\n",
       " 'cowering': 3015,\n",
       " 'altered': 534,\n",
       " 'unencouraging': 14203,\n",
       " 'ww': 15138,\n",
       " 'perspectives': 9801,\n",
       " 'smokey': 12321,\n",
       " 'arrest': 820,\n",
       " 'moulds': 8768,\n",
       " 'borscht': 1631,\n",
       " 'expressionistic': 4816,\n",
       " 'seattle': 11725,\n",
       " 'shivers': 11987,\n",
       " 'sudsy': 13065,\n",
       " 'rustic': 11432,\n",
       " 'daydreams': 3310,\n",
       " 'earnest': 4198,\n",
       " 'hey': 6329,\n",
       " 'mush': 8845,\n",
       " 'creatures': 3076,\n",
       " 'doctorate': 3906,\n",
       " 'smoothly': 12328,\n",
       " 'wes': 14861,\n",
       " 'lone': 7975,\n",
       " 'deathly': 3334,\n",
       " 'danish': 3274,\n",
       " 'stripe': 12916,\n",
       " 'grandmother': 5895,\n",
       " 'doofus': 3961,\n",
       " 'formulas': 5371,\n",
       " 'master': 8305,\n",
       " 'peopled': 9735,\n",
       " 'herring': 6321,\n",
       " 'drinking': 4076,\n",
       " 'nakata': 8898,\n",
       " 'textbook': 13493,\n",
       " 'evening': 4643,\n",
       " 'dating': 3297,\n",
       " 'baader': 1055,\n",
       " 'explanation': 4783,\n",
       " 'perversity': 9809,\n",
       " 'treasured': 13865,\n",
       " 'eminently': 4370,\n",
       " 'pedigree': 9710,\n",
       " 'niccol': 9031,\n",
       " 'talkiness': 13316,\n",
       " 'fifteen': 5086,\n",
       " 'cortez': 2962,\n",
       " 'enjoyment': 4474,\n",
       " 'kerrigan': 7472,\n",
       " 'sunny': 13114,\n",
       " 'laissez': 7627,\n",
       " 'shyamalan': 12065,\n",
       " 'describing': 3561,\n",
       " 'retrograde': 11147,\n",
       " 'structures': 12934,\n",
       " 'sensational': 11790,\n",
       " 'counterpart': 2985,\n",
       " 'morvern': 8747,\n",
       " 'infinitely': 6915,\n",
       " 'becomes': 1242,\n",
       " 'shaped': 11928,\n",
       " 'peevish': 9718,\n",
       " 'franz': 5422,\n",
       " 'fascinate': 4963,\n",
       " 'undermining': 14154,\n",
       " 'indifferent': 6852,\n",
       " 'transit': 13826,\n",
       " 'begun': 1272,\n",
       " 'eventually': 4650,\n",
       " 'porky': 10096,\n",
       " 'maintained': 8156,\n",
       " 'unembarrassing': 14200,\n",
       " 'dropped': 4090,\n",
       " 'fillers': 5107,\n",
       " 'wastes': 14761,\n",
       " 'rare': 10688,\n",
       " 'planned': 9946,\n",
       " 'jackson': 7255,\n",
       " 'pants': 9557,\n",
       " 'samira': 11496,\n",
       " 'staring': 12727,\n",
       " 'provoke': 10439,\n",
       " 'guessing': 6024,\n",
       " 'piercing': 9881,\n",
       " 'association': 905,\n",
       " 'hush': 6588,\n",
       " 'demeanor': 3471,\n",
       " 'astonishingly': 917,\n",
       " 'schneider': 11616,\n",
       " 'zero': 15214,\n",
       " 'reliance': 10954,\n",
       " 'spoof': 12611,\n",
       " 'crane': 3038,\n",
       " 'exclamation': 4716,\n",
       " 'water': 14769,\n",
       " 'kane': 7439,\n",
       " 'exquisite': 4822,\n",
       " 'iles': 6660,\n",
       " 'discussed': 3781,\n",
       " 'nationwide': 8935,\n",
       " 'mistaken': 8619,\n",
       " 'stellar': 12775,\n",
       " 'tacked': 13285,\n",
       " 'steam': 12766,\n",
       " 'dot': 3977,\n",
       " 'humanity': 6551,\n",
       " 'exactly': 4680,\n",
       " 'loony': 7992,\n",
       " 'gloriously': 5778,\n",
       " 'football': 5318,\n",
       " 'discuss': 3780,\n",
       " 'survivable': 13181,\n",
       " 'groupies': 5995,\n",
       " 'jagjit': 7265,\n",
       " 'eee': 4256,\n",
       " 'debt': 3344,\n",
       " 'prowess': 10443,\n",
       " 'bowser': 1663,\n",
       " 'fiji': 5100,\n",
       " 'puzzling': 10549,\n",
       " 'overachieving': 9414,\n",
       " 'futility': 5557,\n",
       " 'positives': 10124,\n",
       " 'brilliance': 1738,\n",
       " 'dime': 3699,\n",
       " 'required': 11052,\n",
       " 'stage': 12680,\n",
       " 'belittle': 1299,\n",
       " 'minute': 8568,\n",
       " 'exuberance': 4848,\n",
       " 'unashamedly': 14074,\n",
       " 'tiger': 13635,\n",
       " 'ideology': 6641,\n",
       " 'governments': 5861,\n",
       " 'scare': 11575,\n",
       " 'absorb': 177,\n",
       " 'tongue': 13712,\n",
       " 'ripe': 11256,\n",
       " 'spend': 12551,\n",
       " 'consolation': 2813,\n",
       " 'omits': 9266,\n",
       " 'oblivious': 9179,\n",
       " 'imagine': 6685,\n",
       " 'edges': 4240,\n",
       " 'masseur': 8302,\n",
       " 'conversations': 2898,\n",
       " 'delirious': 3453,\n",
       " 'babes': 1058,\n",
       " 'zzzzzzzzz': 15239,\n",
       " 'from': 5488,\n",
       " 'demographically': 3483,\n",
       " 'spaghetti': 12499,\n",
       " 'daddy': 3243,\n",
       " 'civilized': 2369,\n",
       " 'medium': 8400,\n",
       " 'shoving': 12031,\n",
       " 'nicky': 9043,\n",
       " 'herself': 6324,\n",
       " 'aggravating': 431,\n",
       " 'hooliganism': 6467,\n",
       " 'alcatraz': 486,\n",
       " 'defensive': 3399,\n",
       " 'imaxy': 6691,\n",
       " 'glides': 5760,\n",
       " 'tenderly': 13447,\n",
       " 'game': 5589,\n",
       " 'acceptance': 202,\n",
       " 'spotty': 12631,\n",
       " 'russian': 11428,\n",
       " 'magic': 8137,\n",
       " 'expression': 4814,\n",
       " 'clone': 2457,\n",
       " 'insightful': 6996,\n",
       " 'richness': 11218,\n",
       " 'laziness': 7721,\n",
       " 'yosuke': 15184,\n",
       " 'shovel': 12030,\n",
       " 'tickles': 13625,\n",
       " 'armenians': 813,\n",
       " 'avant': 1012,\n",
       " 'tones': 13711,\n",
       " 'passes': 9631,\n",
       " 'featuring': 5017,\n",
       " 'basest': 1183,\n",
       " 'factory': 4883,\n",
       " 'managing': 8198,\n",
       " 'recognize': 10795,\n",
       " 'agents': 426,\n",
       " 'attempted': 951,\n",
       " 'supplied': 13135,\n",
       " 'drinker': 4075,\n",
       " 'kaige': 7436,\n",
       " 'hughes': 6544,\n",
       " 'scam': 11567,\n",
       " 'adrift': 348,\n",
       " 'fraser': 5423,\n",
       " 'effecting': 4260,\n",
       " 'day': 3309,\n",
       " 'macnaughton': 8119,\n",
       " 'beautifully': 1230,\n",
       " 'scrapbook': 11663,\n",
       " 'anton': 694,\n",
       " 'stomached': 12836,\n",
       " 'indigestion': 6854,\n",
       " 'borstal': 1632,\n",
       " 'arresting': 821,\n",
       " 'private': 10311,\n",
       " 'colleagues': 2542,\n",
       " 'degenerating': 3422,\n",
       " 'cooks': 2919,\n",
       " 'cimarron': 2341,\n",
       " 'penned': 9731,\n",
       " 'humans': 6556,\n",
       " 'childlike': 2272,\n",
       " 'jack': 7250,\n",
       " 'lucas': 8050,\n",
       " 'myself': 8873,\n",
       " 'pathetic': 9653,\n",
       " 'channel': 2170,\n",
       " 'overwrought': 9477,\n",
       " 'unsuccessfully': 14373,\n",
       " 'tumult': 13976,\n",
       " 'ambitious': 564,\n",
       " 'canon': 1979,\n",
       " 'quibble': 10579,\n",
       " 'severe': 11877,\n",
       " 'tasty': 13356,\n",
       " 'cinema': 2344,\n",
       " 'versace': 14546,\n",
       " 'tales': 13312,\n",
       " 'hustlers': 6593,\n",
       " 'hatfield': 6200,\n",
       " 'nolan': 9075,\n",
       " 'melting': 8424,\n",
       " 'chabrol': 2146,\n",
       " 'cascade': 2058,\n",
       " 'kaufman': 7454,\n",
       " 'misanthropy': 8582,\n",
       " 'byron': 1901,\n",
       " 'skies': 12188,\n",
       " 'ineptitude': 6885,\n",
       " 'wise': 14990,\n",
       " 'recycle': 10824,\n",
       " 'hence': 6302,\n",
       " 'immaturity': 6703,\n",
       " 'er': 4558,\n",
       " 'lisa': 7915,\n",
       " 'begrudge': 1269,\n",
       " 'refined': 10873,\n",
       " 'riding': 11233,\n",
       " 'customarily': 3218,\n",
       " 'secret': 11730,\n",
       " 'toys': 13779,\n",
       " 'perils': 9770,\n",
       " 'work': 15068,\n",
       " 'extrusion': 4847,\n",
       " 'politically': 10058,\n",
       " 'unprepared': 14322,\n",
       " 'cynicism': 3237,\n",
       " 'burst': 1864,\n",
       " 'show': 12032,\n",
       " 'mature': 8333,\n",
       " 'uniquely': 14278,\n",
       " 'smallness': 12300,\n",
       " 'thoroughfare': 13563,\n",
       " 'sob': 12377,\n",
       " 'repetitively': 11022,\n",
       " 'treatment': 13870,\n",
       " 'unmistakably': 14304,\n",
       " 'evanescent': 4635,\n",
       " 'steadfast': 12759,\n",
       " 'scholar': 11620,\n",
       " 'newcomer': 9020,\n",
       " 'spots': 12630,\n",
       " 'revision': 11178,\n",
       " 'diary': 3653,\n",
       " 'drain': 4023,\n",
       " 'somnambulant': 12438,\n",
       " 'tunes': 13981,\n",
       " 'henry': 6304,\n",
       " 'swimming': 13235,\n",
       " 'highly': 6353,\n",
       " 'facing': 4879,\n",
       " 'isolation': 7224,\n",
       " 'gunfight': 6045,\n",
       " 'political': 10057,\n",
       " 'behavior': 1278,\n",
       " 'leguizamo': 7777,\n",
       " 'education': 4253,\n",
       " 'sheridan': 11965,\n",
       " 'bernal': 1332,\n",
       " 'lee': 7764,\n",
       " 'unappealing': 14073,\n",
       " 'tyson': 14042,\n",
       " 'burnt': 1861,\n",
       " 'east': 4210,\n",
       " 'hotels': 6509,\n",
       " 'screenwriting': 11683,\n",
       " 'spooks': 12618,\n",
       " 'underplays': 14158,\n",
       " 'celebrities': 2119,\n",
       " 'telanovela': 13415,\n",
       " 'limitations': 7882,\n",
       " 'addict': 299,\n",
       " 'undisputed': 14186,\n",
       " ...}"
      ]
     },
     "execution_count": 11,
     "metadata": {},
     "output_type": "execute_result"
    }
   ],
   "source": [
    "vect.vocabulary_"
   ]
  },
  {
   "cell_type": "code",
   "execution_count": 12,
   "metadata": {},
   "outputs": [
    {
     "data": {
      "text/plain": [
       "(156060, 15240)"
      ]
     },
     "execution_count": 12,
     "metadata": {},
     "output_type": "execute_result"
    }
   ],
   "source": [
    "train.shape"
   ]
  },
  {
   "cell_type": "code",
   "execution_count": 13,
   "metadata": {},
   "outputs": [
    {
     "data": {
      "text/plain": [
       "array([  9.77994841,   7.76504538,   8.69532236, ...,  10.18541351,\n",
       "        10.65541714,  11.16624277])"
      ]
     },
     "execution_count": 13,
     "metadata": {},
     "output_type": "execute_result"
    }
   ],
   "source": [
    "vect.idf_"
   ]
  },
  {
   "cell_type": "code",
   "execution_count": 14,
   "metadata": {},
   "outputs": [],
   "source": [
    "train_arr=train.toarray()"
   ]
  },
  {
   "cell_type": "code",
   "execution_count": 15,
   "metadata": {},
   "outputs": [
    {
     "data": {
      "text/plain": [
       "(156060, 15240)"
      ]
     },
     "execution_count": 15,
     "metadata": {},
     "output_type": "execute_result"
    }
   ],
   "source": [
    "train_arr.shape"
   ]
  },
  {
   "cell_type": "code",
   "execution_count": 16,
   "metadata": {},
   "outputs": [],
   "source": [
    "from sklearn.model_selection import train_test_split"
   ]
  },
  {
   "cell_type": "code",
   "execution_count": 45,
   "metadata": {},
   "outputs": [],
   "source": [
    "x_train,x_test,y_train,y_test=train_test_split(df_train['Phrase'],sentiment,test_size=0.3,random_state=1)"
   ]
  },
  {
   "cell_type": "code",
   "execution_count": 18,
   "metadata": {},
   "outputs": [
    {
     "data": {
      "text/plain": [
       "(117045,)"
      ]
     },
     "execution_count": 18,
     "metadata": {},
     "output_type": "execute_result"
    }
   ],
   "source": [
    "x_train.shape"
   ]
  },
  {
   "cell_type": "code",
   "execution_count": 47,
   "metadata": {},
   "outputs": [],
   "source": [
    "x_train=vect.fit_transform(x_train)"
   ]
  },
  {
   "cell_type": "code",
   "execution_count": 48,
   "metadata": {},
   "outputs": [
    {
     "data": {
      "text/plain": [
       "(109242, 15215)"
      ]
     },
     "execution_count": 48,
     "metadata": {},
     "output_type": "execute_result"
    }
   ],
   "source": [
    "x_train.shape"
   ]
  },
  {
   "cell_type": "markdown",
   "metadata": {},
   "source": [
    "# # It is very important to note that x_test should only be transformed but not not fit_transform... because the x_test should only be transformed based on x_train vocabulary.\n",
    "\n",
    "## If x_test is also fit_tranformed then the shape of the vocabulary in train and test will be different"
   ]
  },
  {
   "cell_type": "code",
   "execution_count": 49,
   "metadata": {},
   "outputs": [],
   "source": [
    "x_test=vect.transform(x_test)"
   ]
  },
  {
   "cell_type": "code",
   "execution_count": 50,
   "metadata": {},
   "outputs": [
    {
     "data": {
      "text/plain": [
       "(46818, 15215)"
      ]
     },
     "execution_count": 50,
     "metadata": {},
     "output_type": "execute_result"
    }
   ],
   "source": [
    "x_test.shape"
   ]
  },
  {
   "cell_type": "code",
   "execution_count": 23,
   "metadata": {},
   "outputs": [],
   "source": [
    "from sklearn import svm"
   ]
  },
  {
   "cell_type": "code",
   "execution_count": 24,
   "metadata": {},
   "outputs": [],
   "source": [
    "cls=svm.SVC()"
   ]
  },
  {
   "cell_type": "code",
   "execution_count": 25,
   "metadata": {},
   "outputs": [
    {
     "data": {
      "text/plain": [
       "SVC(C=1.0, cache_size=200, class_weight=None, coef0=0.0,\n",
       "  decision_function_shape='ovr', degree=3, gamma='auto', kernel='rbf',\n",
       "  max_iter=-1, probability=False, random_state=None, shrinking=True,\n",
       "  tol=0.001, verbose=False)"
      ]
     },
     "execution_count": 25,
     "metadata": {},
     "output_type": "execute_result"
    }
   ],
   "source": [
    "cls.fit(x_train,y_train)"
   ]
  },
  {
   "cell_type": "code",
   "execution_count": 26,
   "metadata": {},
   "outputs": [
    {
     "data": {
      "text/plain": [
       "(117045, 15223)"
      ]
     },
     "execution_count": 26,
     "metadata": {},
     "output_type": "execute_result"
    }
   ],
   "source": [
    "x_train.shape"
   ]
  },
  {
   "cell_type": "code",
   "execution_count": 27,
   "metadata": {},
   "outputs": [],
   "source": [
    "from sklearn.metrics import accuracy_score"
   ]
  },
  {
   "cell_type": "code",
   "execution_count": 28,
   "metadata": {
    "scrolled": true
   },
   "outputs": [],
   "source": [
    "y_pred=cls.predict(x_test)"
   ]
  },
  {
   "cell_type": "code",
   "execution_count": 29,
   "metadata": {},
   "outputs": [
    {
     "data": {
      "text/plain": [
       "(39015, 15223)"
      ]
     },
     "execution_count": 29,
     "metadata": {},
     "output_type": "execute_result"
    }
   ],
   "source": [
    "x_test.shape"
   ]
  },
  {
   "cell_type": "code",
   "execution_count": 30,
   "metadata": {},
   "outputs": [
    {
     "data": {
      "text/plain": [
       "(117045, 15223)"
      ]
     },
     "execution_count": 30,
     "metadata": {},
     "output_type": "execute_result"
    }
   ],
   "source": [
    "x_train.shape"
   ]
  },
  {
   "cell_type": "code",
   "execution_count": 36,
   "metadata": {},
   "outputs": [
    {
     "data": {
      "text/plain": [
       "2"
      ]
     },
     "execution_count": 36,
     "metadata": {},
     "output_type": "execute_result"
    }
   ],
   "source": [
    "y_pred[1821]"
   ]
  },
  {
   "cell_type": "code",
   "execution_count": 37,
   "metadata": {},
   "outputs": [
    {
     "data": {
      "text/plain": [
       "0.50916314238113547"
      ]
     },
     "execution_count": 37,
     "metadata": {},
     "output_type": "execute_result"
    }
   ],
   "source": [
    "accuracy_score(y_test, y_pred, normalize=True)"
   ]
  },
  {
   "cell_type": "code",
   "execution_count": 38,
   "metadata": {},
   "outputs": [
    {
     "name": "stderr",
     "output_type": "stream",
     "text": [
      "/usr/local/src/conda3_runtime/home/envs/DSX-Python35-Spark/lib/python3.5/site-packages/sklearn/cross_validation.py:41: DeprecationWarning: This module was deprecated in version 0.18 in favor of the model_selection module into which all the refactored classes and functions are moved. Also note that the interface of the new CV iterators are different from that of this module. This module will be removed in 0.20.\n",
      "  \"This module will be removed in 0.20.\", DeprecationWarning)\n"
     ]
    }
   ],
   "source": [
    "import xgboost as xgb"
   ]
  },
  {
   "cell_type": "code",
   "execution_count": 39,
   "metadata": {},
   "outputs": [],
   "source": [
    "\n",
    "from xgboost import XGBClassifier"
   ]
  },
  {
   "cell_type": "code",
   "execution_count": 40,
   "metadata": {},
   "outputs": [],
   "source": [
    "model=XGBClassifier()"
   ]
  },
  {
   "cell_type": "code",
   "execution_count": 51,
   "metadata": {},
   "outputs": [
    {
     "data": {
      "text/plain": [
       "XGBClassifier(base_score=0.5, colsample_bylevel=1, colsample_bytree=1,\n",
       "       gamma=0, learning_rate=0.1, max_delta_step=0, max_depth=3,\n",
       "       min_child_weight=1, missing=None, n_estimators=100, nthread=-1,\n",
       "       objective='multi:softprob', reg_alpha=0, reg_lambda=1,\n",
       "       scale_pos_weight=1, seed=0, silent=True, subsample=1)"
      ]
     },
     "execution_count": 51,
     "metadata": {},
     "output_type": "execute_result"
    }
   ],
   "source": [
    "model.fit(x_train,y_train)"
   ]
  },
  {
   "cell_type": "code",
   "execution_count": 52,
   "metadata": {},
   "outputs": [],
   "source": [
    "y_pred1=model.predict(x_test)"
   ]
  },
  {
   "cell_type": "code",
   "execution_count": 53,
   "metadata": {},
   "outputs": [
    {
     "data": {
      "text/plain": [
       "(46818,)"
      ]
     },
     "execution_count": 53,
     "metadata": {},
     "output_type": "execute_result"
    }
   ],
   "source": [
    "y_pred1.shape"
   ]
  },
  {
   "cell_type": "code",
   "execution_count": 54,
   "metadata": {},
   "outputs": [
    {
     "data": {
      "text/plain": [
       "0.53408945277457387"
      ]
     },
     "execution_count": 54,
     "metadata": {},
     "output_type": "execute_result"
    }
   ],
   "source": [
    "accuracy_score(y_test, y_pred1)"
   ]
  },
  {
   "cell_type": "code",
   "execution_count": 57,
   "metadata": {},
   "outputs": [
    {
     "data": {
      "text/plain": [
       "2"
      ]
     },
     "execution_count": 57,
     "metadata": {},
     "output_type": "execute_result"
    }
   ],
   "source": [
    "y_pred1[12001]"
   ]
  },
  {
   "cell_type": "code",
   "execution_count": 58,
   "metadata": {},
   "outputs": [],
   "source": [
    "from sklearn.naive_bayes import MultinomialNB"
   ]
  },
  {
   "cell_type": "code",
   "execution_count": 59,
   "metadata": {},
   "outputs": [],
   "source": [
    "model_naive=MultinomialNB()"
   ]
  },
  {
   "cell_type": "code",
   "execution_count": 60,
   "metadata": {},
   "outputs": [
    {
     "data": {
      "text/plain": [
       "MultinomialNB(alpha=1.0, class_prior=None, fit_prior=True)"
      ]
     },
     "execution_count": 60,
     "metadata": {},
     "output_type": "execute_result"
    }
   ],
   "source": [
    "model_naive.fit(x_train,y_train)"
   ]
  },
  {
   "cell_type": "code",
   "execution_count": 61,
   "metadata": {},
   "outputs": [],
   "source": [
    "y_pred2=model_naive.predict(x_test)"
   ]
  },
  {
   "cell_type": "code",
   "execution_count": 62,
   "metadata": {},
   "outputs": [
    {
     "data": {
      "text/plain": [
       "array([2, 1, 2, ..., 2, 3, 2])"
      ]
     },
     "execution_count": 62,
     "metadata": {},
     "output_type": "execute_result"
    }
   ],
   "source": [
    "y_pred2"
   ]
  },
  {
   "cell_type": "code",
   "execution_count": 63,
   "metadata": {},
   "outputs": [
    {
     "data": {
      "text/plain": [
       "0.58537314708018284"
      ]
     },
     "execution_count": 63,
     "metadata": {},
     "output_type": "execute_result"
    }
   ],
   "source": [
    "accuracy_score(y_test,y_pred2)"
   ]
  },
  {
   "cell_type": "code",
   "execution_count": 65,
   "metadata": {},
   "outputs": [],
   "source": [
    "from sklearn.ensemble import RandomForestClassifier"
   ]
  },
  {
   "cell_type": "code",
   "execution_count": 66,
   "metadata": {},
   "outputs": [],
   "source": [
    "model_random=RandomForestClassifier(max_depth=3, random_state=0)"
   ]
  },
  {
   "cell_type": "code",
   "execution_count": 67,
   "metadata": {},
   "outputs": [
    {
     "data": {
      "text/plain": [
       "RandomForestClassifier(bootstrap=True, class_weight=None, criterion='gini',\n",
       "            max_depth=3, max_features='auto', max_leaf_nodes=None,\n",
       "            min_impurity_decrease=0.0, min_impurity_split=None,\n",
       "            min_samples_leaf=1, min_samples_split=2,\n",
       "            min_weight_fraction_leaf=0.0, n_estimators=10, n_jobs=1,\n",
       "            oob_score=False, random_state=0, verbose=0, warm_start=False)"
      ]
     },
     "execution_count": 67,
     "metadata": {},
     "output_type": "execute_result"
    }
   ],
   "source": [
    "model_random.fit(x_train,y_train)"
   ]
  },
  {
   "cell_type": "code",
   "execution_count": 68,
   "metadata": {},
   "outputs": [],
   "source": [
    "y_pred3=model_random.predict(x_test)"
   ]
  },
  {
   "cell_type": "code",
   "execution_count": 69,
   "metadata": {},
   "outputs": [
    {
     "data": {
      "text/plain": [
       "array([2, 2, 2, ..., 2, 2, 2])"
      ]
     },
     "execution_count": 69,
     "metadata": {},
     "output_type": "execute_result"
    }
   ],
   "source": [
    "y_pred3"
   ]
  },
  {
   "cell_type": "code",
   "execution_count": 70,
   "metadata": {},
   "outputs": [
    {
     "data": {
      "text/plain": [
       "0.50869323764364138"
      ]
     },
     "execution_count": 70,
     "metadata": {},
     "output_type": "execute_result"
    }
   ],
   "source": [
    "accuracy_score(y_test,y_pred3)"
   ]
  }
 ],
 "metadata": {
  "kernelspec": {
   "display_name": "Python 3.5 with Spark 2.1",
   "language": "python",
   "name": "python3-spark21"
  },
  "language_info": {
   "codemirror_mode": {
    "name": "ipython",
    "version": 3
   },
   "file_extension": ".py",
   "mimetype": "text/x-python",
   "name": "python",
   "nbconvert_exporter": "python",
   "pygments_lexer": "ipython3",
   "version": "3.5.4"
  }
 },
 "nbformat": 4,
 "nbformat_minor": 1
}
